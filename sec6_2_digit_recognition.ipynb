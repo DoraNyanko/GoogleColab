{
  "nbformat": 4,
  "nbformat_minor": 0,
  "metadata": {
    "colab": {
      "provenance": [],
      "include_colab_link": true
    },
    "kernelspec": {
      "name": "python3",
      "display_name": "Python 3"
    }
  },
  "cells": [
    {
      "cell_type": "markdown",
      "metadata": {
        "id": "view-in-github",
        "colab_type": "text"
      },
      "source": [
        "<a href=\"https://colab.research.google.com/github/DoraNyanko/GoogleColab/blob/main/sec6_2_digit_recognition.ipynb\" target=\"_parent\"><img src=\"https://colab.research.google.com/assets/colab-badge.svg\" alt=\"Open In Colab\"/></a>"
      ]
    },
    {
      "cell_type": "markdown",
      "metadata": {
        "id": "R_N6frOra6B1"
      },
      "source": [
        "# 手書き文字の認識\n",
        "scikit-learnを使って手書き文字の認識を行います。  \n",
        "今回は、0-9までの手書き数字データを使ってサポートベクターマシンを訓練し、未知の手書き文字画像の分類を行います。  "
      ]
    },
    {
      "cell_type": "markdown",
      "metadata": {
        "id": "D0kwjLG6dr18"
      },
      "source": [
        "## ● 手書き数字データ\n",
        "手書き文字のデータセットですが、今回もscikit-learnのdatasetsから入手します。  \n",
        "このデータセットには、0から9までの手書き数字の画像が多数含まれています。  \n",
        "また、それらの画像がどの数値を表しているのか示すラベルも一緒になっています。  \n",
        "以下は、scikit-learnのdatasetsから手書き文字のデータセットを取得し、画像データの形状及び最初の画像を表示するコードです。  \n",
        "画像のサイズは8x8ピクセルで、1797枚あります。  "
      ]
    },
    {
      "cell_type": "code",
      "metadata": {
        "id": "PORSPMy29MAr",
        "outputId": "345e2de2-3b87-443e-85d4-ac303ead54c2",
        "colab": {
          "base_uri": "https://localhost:8080/",
          "height": 583
        }
      },
      "source": [
        "from sklearn import datasets\n",
        "from sklearn import svm\n",
        "import matplotlib.pyplot as plt\n",
        "\n",
        "# 数字画像データの読み込み\n",
        "digits = datasets.load_digits()\n",
        "\n",
        "print(\"--- 画像データ ---\")\n",
        "print(digits.images[0])\n",
        "print(digits.images.shape)\n",
        "print(\"--- 1次元画像データ ---\")\n",
        "print(digits.data[0])\n",
        "print(digits.data.shape)\n",
        "print(\"--- ラベル ---\")\n",
        "print(digits.target)\n",
        "print(digits.target.shape)\n",
        "\n",
        "# 画像と正解値の表示\n",
        "images = digits.images\n",
        "labels = digits.target\n",
        "for i in range(10):\n",
        "    plt.subplot(2, 5, i + 1)  # 2行5列、i+1の位置\n",
        "    plt.imshow(images[i], cmap=\"Greys\")\n",
        "    plt.axis(\"off\")\n",
        "    plt.title(\"Label: \" +  str(labels[i]))\n",
        "plt.show()"
      ],
      "execution_count": 1,
      "outputs": [
        {
          "output_type": "stream",
          "name": "stdout",
          "text": [
            "--- 画像データ ---\n",
            "[[ 0.  0.  5. 13.  9.  1.  0.  0.]\n",
            " [ 0.  0. 13. 15. 10. 15.  5.  0.]\n",
            " [ 0.  3. 15.  2.  0. 11.  8.  0.]\n",
            " [ 0.  4. 12.  0.  0.  8.  8.  0.]\n",
            " [ 0.  5.  8.  0.  0.  9.  8.  0.]\n",
            " [ 0.  4. 11.  0.  1. 12.  7.  0.]\n",
            " [ 0.  2. 14.  5. 10. 12.  0.  0.]\n",
            " [ 0.  0.  6. 13. 10.  0.  0.  0.]]\n",
            "(1797, 8, 8)\n",
            "--- 1次元画像データ ---\n",
            "[ 0.  0.  5. 13.  9.  1.  0.  0.  0.  0. 13. 15. 10. 15.  5.  0.  0.  3.\n",
            " 15.  2.  0. 11.  8.  0.  0.  4. 12.  0.  0.  8.  8.  0.  0.  5.  8.  0.\n",
            "  0.  9.  8.  0.  0.  4. 11.  0.  1. 12.  7.  0.  0.  2. 14.  5. 10. 12.\n",
            "  0.  0.  0.  0.  6. 13. 10.  0.  0.  0.]\n",
            "(1797, 64)\n",
            "--- ラベル ---\n",
            "[0 1 2 ... 8 9 8]\n",
            "(1797,)\n"
          ]
        },
        {
          "output_type": "display_data",
          "data": {
            "text/plain": [
              "<Figure size 432x288 with 10 Axes>"
            ],
            "image/png": "[encoded data removed]"
          },
          "metadata": {
            "needs_background": "light"
          }
        }
      ]
    },
    {
      "cell_type": "code",
      "metadata": {
        "id": "R0vglTuDKp2X",
        "outputId": "d7a5b9fa-2593-4b75-ab90-d42107464a49",
        "colab": {
          "base_uri": "https://localhost:8080/",
          "height": 572
        }
      },
      "source": [
        "# コード練習用\n",
        "from sklearn import datasets\n",
        "from sklearn import svm\n",
        "import matplotlib.pyplot as plt\n",
        "\n",
        "# 数字画像データの読み込み\n",
        "digits = datasets.load_digits()\n",
        "\n",
        "print(\"--- 画像データ ---\")\n",
        "print(digits.images[0])\n",
        "print(digits.images.shape)\n",
        "print(\"--- 1次元画像データ ---\")\n",
        "print(digits.data[0])\n",
        "print(digits.data.shape)\n",
        "print(\"--- ラベル ---\")\n",
        "print(digits.target)\n",
        "print(digits.target.shape)\n",
        "\n",
        "# 画像とラベルの表示 最初の10枚のみ\n",
        "images = digits.images\n",
        "labels = digits.target\n",
        "for i in range(10):\n",
        "    plt.subplot(2, 5, i + 1)  # 2行5列、i+1の位置\n",
        "    plt.imshow(images[i], cmap=\"Greys\") \n",
        "    plt.axis(\"off\")\n",
        "    plt.title(\"Label: \" +  str(labels[i]))\n",
        "plt.show()"
      ],
      "execution_count": null,
      "outputs": [
        {
          "output_type": "stream",
          "name": "stdout",
          "text": [
            "--- 画像データ ---\n",
            "[[ 0.  0.  5. 13.  9.  1.  0.  0.]\n",
            " [ 0.  0. 13. 15. 10. 15.  5.  0.]\n",
            " [ 0.  3. 15.  2.  0. 11.  8.  0.]\n",
            " [ 0.  4. 12.  0.  0.  8.  8.  0.]\n",
            " [ 0.  5.  8.  0.  0.  9.  8.  0.]\n",
            " [ 0.  4. 11.  0.  1. 12.  7.  0.]\n",
            " [ 0.  2. 14.  5. 10. 12.  0.  0.]\n",
            " [ 0.  0.  6. 13. 10.  0.  0.  0.]]\n",
            "(1797, 8, 8)\n",
            "--- 1次元画像データ ---\n",
            "[ 0.  0.  5. 13.  9.  1.  0.  0.  0.  0. 13. 15. 10. 15.  5.  0.  0.  3.\n",
            " 15.  2.  0. 11.  8.  0.  0.  4. 12.  0.  0.  8.  8.  0.  0.  5.  8.  0.\n",
            "  0.  9.  8.  0.  0.  4. 11.  0.  1. 12.  7.  0.  0.  2. 14.  5. 10. 12.\n",
            "  0.  0.  0.  0.  6. 13. 10.  0.  0.  0.]\n",
            "(1797, 64)\n",
            "--- ラベル ---\n",
            "[0 1 2 ... 8 9 8]\n",
            "(1797,)\n"
          ]
        },
        {
          "output_type": "display_data",
          "data": {
            "text/plain": [
              "<Figure size 432x288 with 10 Axes>"
            ],
            "image/png": "[encoded data removed]"
          },
          "metadata": {
            "needs_background": "light"
          }
        }
      ]
    },
    {
      "cell_type": "code",
      "source": [
        "import numpy as np\n",
        "from sklearn.model_selection import train_test_split\n",
        "\n",
        "a = np.arange(100)\n",
        "print(a)\n",
        "# [0 1 2 3 4 5 6 7 8 9]\n",
        "\n",
        "print(train_test_split(a))\n",
        "# [array([3, 9, 6, 1, 5, 0, 7]), array([2, 8, 4])]\n",
        "\n",
        "print(type(train_test_split(a)))\n",
        "# <class 'list'>\n",
        "\n",
        "print(len(train_test_split(a)))\n",
        "# 2\n",
        "\n",
        "a_train, a_test = train_test_split(a, test_size=0.5)\n",
        "\n",
        "print(a_train)\n",
        "\n",
        "print(a_test)"
      ],
      "metadata": {
        "id": "v3ZWcYIX0VXO",
        "outputId": "a8779bd3-66df-4501-de83-4c47f1b4501f",
        "colab": {
          "base_uri": "https://localhost:8080/"
        }
      },
      "execution_count": 18,
      "outputs": [
        {
          "output_type": "stream",
          "name": "stdout",
          "text": [
            "[ 0  1  2  3  4  5  6  7  8  9 10 11 12 13 14 15 16 17 18 19 20 21 22 23\n",
            " 24 25 26 27 28 29 30 31 32 33 34 35 36 37 38 39 40 41 42 43 44 45 46 47\n",
            " 48 49 50 51 52 53 54 55 56 57 58 59 60 61 62 63 64 65 66 67 68 69 70 71\n",
            " 72 73 74 75 76 77 78 79 80 81 82 83 84 85 86 87 88 89 90 91 92 93 94 95\n",
            " 96 97 98 99]\n",
            "[array([47, 73, 16, 21, 72, 30, 81, 18,  4, 31, 51, 14, 90, 95, 58, 86,  9,\n",
            "       75, 96, 65, 97, 36, 59, 67, 91, 33, 24, 19,  3, 28, 83, 77, 43, 41,\n",
            "       79, 87, 12, 82, 40, 68, 32, 26, 60, 55, 42, 94, 44,  1, 22, 84, 50,\n",
            "       54, 93, 37, 49,  6, 45, 20, 76, 46,  7, 56, 98,  5, 25, 13, 64, 78,\n",
            "       69, 62, 63, 74, 99, 29, 34]), array([71, 85, 48, 80, 53, 15, 38, 89, 88, 61, 17, 39, 10, 70,  2, 35,  8,\n",
            "       57, 23, 27,  0, 92, 11, 52, 66])]\n",
            "<class 'list'>\n",
            "2\n",
            "[92 75 97 20 82 39 11 88 57  1 77 41 27 58  7 46 32 19 37 65 84 36 47 10\n",
            "  5 17 23 96 83 25 85 78 44  3 89 21 81 53 28 74 33 69  2 66 68 29 16 98\n",
            " 18 42]\n",
            "[15 51  9 87 54  4 49 48 35 95 14 67 24 45 91 94 26 50 76 93 59 86 12 62\n",
            " 40 72 80  6 70  8 52 55 60 43 61 34  0 73 30 71 22 56 79 90 64 99 63 38\n",
            " 13 31]\n"
          ]
        }
      ]
    },
    {
      "cell_type": "markdown",
      "metadata": {
        "id": "gQ9MgHBcha6I"
      },
      "source": [
        "## ● 手書き数字の分類\n",
        "手書き数字のデータを使ってサポートベクターマシンを訓練し、未知の手書き文字を分類します。  \n",
        "データ全体を`train_test_split`を使って訓練データとテストデータに分割します。  \n",
        "そして、訓練用データを使ってサポートベクターマシンを訓練し、テストデータはこの性能を測るための未知のデータとします。  \n",
        "\n"
      ]
    },
    {
      "cell_type": "code",
      "metadata": {
        "id": "ZV3H7t9iBdmR",
        "outputId": "91df7d6a-0aa0-4466-899c-b8b4ee453101",
        "colab": {
          "base_uri": "https://localhost:8080/",
          "height": 1000
        }
      },
      "source": [
        "from sklearn import datasets\n",
        "from sklearn import svm\n",
        "from sklearn.model_selection import train_test_split\n",
        "from sklearn import metrics\n",
        "import matplotlib.pyplot as plt\n",
        "\n",
        "# 訓練データとテストデータに分割\n",
        "digits = datasets.load_digits()\n",
        "x1_train, x1_test, t1_train, t1_test = train_test_split(digits.data, digits.target, test_size=0.1)  # 初期値は75％（test_size=0.25）がテストデータ\n",
        "x2_train, x2_test, t2_train, t2_test = train_test_split(digits.data, digits.target, test_size=0.25)  # 初期値は75％（test_size=0.25）がテストデータ\n",
        "x3_train, x3_test, t3_train, t3_test = train_test_split(digits.data, digits.target, test_size=0.4)  # 初期値は75％（test_size=0.25）がテストデータ\n",
        "x4_train, x4_test, t4_train, t4_test = train_test_split(digits.data, digits.target, test_size=0.55)  # 初期値は75％（test_size=0.25）がテストデータ\n",
        "x5_train, x5_test, t5_train, t5_test = train_test_split(digits.data, digits.target, test_size=0.7)  # 初期値は75％（test_size=0.25）がテストデータ\n",
        "\n",
        "clf = svm.SVC()  # サポートベクターマシーン\n",
        "clf.fit(x1_train, t1_train)  # 訓練\n",
        "clf.fit(x2_train, t2_train)  # 訓練\n",
        "clf.fit(x3_train, t3_train)  # 訓練\n",
        "clf.fit(x4_train, t4_train)  # 訓練\n",
        "clf.fit(x5_train, t5_train)  # 訓練\n",
        "\n",
        "y1_test = clf.predict(x1_test)  # テストデータで予測\n",
        "print(metrics.classification_report(t1_test, y1_test))  # 正解率など\n",
        "print(metrics.confusion_matrix(t1_test, y1_test))  # 行:正解、列:予測\n",
        "\n",
        "y2_test = clf.predict(x2_test)  # テストデータで予測\n",
        "print(metrics.classification_report(t2_test, y2_test))  # 正解率など\n",
        "print(metrics.confusion_matrix(t2_test, y2_test))  # 行:正解、列:予測\n",
        "\n",
        "y3_test = clf.predict(x3_test)  # テストデータで予測\n",
        "print(metrics.classification_report(t3_test, y3_test))  # 正解率など\n",
        "print(metrics.confusion_matrix(t3_test, y3_test))  # 行:正解、列:予測\n",
        "\n",
        "y4_test = clf.predict(x4_test)  # テストデータで予測\n",
        "print(metrics.classification_report(t4_test, y4_test))  # 正解率など\n",
        "print(metrics.confusion_matrix(t4_test, y4_test))  # 行:正解、列:予測\n",
        "\n",
        "y5_test = clf.predict(x5_test)  # テストデータで予測\n",
        "print(metrics.classification_report(t5_test, y5_test))  # 正解率など\n",
        "print(metrics.confusion_matrix(t5_test, y5_test))  # 行:正解、列:予測\n",
        "\n",
        "# 予測結果と画像の対応\n",
        "images = digits.images[:10]  # 最初の10枚\n",
        "y_10 = clf.predict(digits.data[:10])\n",
        "for i in range(10):\n",
        "    plt.subplot(2, 5, i + 1)  # 2行5列、i+1の位置\n",
        "    plt.imshow(images[i], cmap=\"Greys\")\n",
        "    plt.axis(\"off\")\n",
        "    plt.title(\"Gues: \" +  str(y_10[i]))\n",
        "plt.show()"
      ],
      "execution_count": 31,
      "outputs": [
        {
          "output_type": "stream",
          "name": "stdout",
          "text": [
            "              precision    recall  f1-score   support\n",
            "\n",
            "           0       1.00      1.00      1.00        14\n",
            "           1       1.00      1.00      1.00        24\n",
            "           2       1.00      1.00      1.00        14\n",
            "           3       0.94      1.00      0.97        17\n",
            "           4       1.00      1.00      1.00        20\n",
            "           5       1.00      1.00      1.00        21\n",
            "           6       1.00      1.00      1.00        14\n",
            "           7       0.81      1.00      0.89        17\n",
            "           8       1.00      1.00      1.00        19\n",
            "           9       1.00      0.75      0.86        20\n",
            "\n",
            "    accuracy                           0.97       180\n",
            "   macro avg       0.98      0.97      0.97       180\n",
            "weighted avg       0.98      0.97      0.97       180\n",
            "\n",
            "[[14  0  0  0  0  0  0  0  0  0]\n",
            " [ 0 24  0  0  0  0  0  0  0  0]\n",
            " [ 0  0 14  0  0  0  0  0  0  0]\n",
            " [ 0  0  0 17  0  0  0  0  0  0]\n",
            " [ 0  0  0  0 20  0  0  0  0  0]\n",
            " [ 0  0  0  0  0 21  0  0  0  0]\n",
            " [ 0  0  0  0  0  0 14  0  0  0]\n",
            " [ 0  0  0  0  0  0  0 17  0  0]\n",
            " [ 0  0  0  0  0  0  0  0 19  0]\n",
            " [ 0  0  0  1  0  0  0  4  0 15]]\n",
            "              precision    recall  f1-score   support\n",
            "\n",
            "           0       1.00      1.00      1.00        40\n",
            "           1       0.96      1.00      0.98        45\n",
            "           2       1.00      1.00      1.00        42\n",
            "           3       0.97      1.00      0.99        39\n",
            "           4       1.00      0.96      0.98        49\n",
            "           5       0.96      1.00      0.98        53\n",
            "           6       1.00      0.98      0.99        56\n",
            "           7       0.91      1.00      0.96        32\n",
            "           8       0.98      0.98      0.98        49\n",
            "           9       1.00      0.89      0.94        45\n",
            "\n",
            "    accuracy                           0.98       450\n",
            "   macro avg       0.98      0.98      0.98       450\n",
            "weighted avg       0.98      0.98      0.98       450\n",
            "\n",
            "[[40  0  0  0  0  0  0  0  0  0]\n",
            " [ 0 45  0  0  0  0  0  0  0  0]\n",
            " [ 0  0 42  0  0  0  0  0  0  0]\n",
            " [ 0  0  0 39  0  0  0  0  0  0]\n",
            " [ 0  0  0  0 47  0  0  2  0  0]\n",
            " [ 0  0  0  0  0 53  0  0  0  0]\n",
            " [ 0  1  0  0  0  0 55  0  0  0]\n",
            " [ 0  0  0  0  0  0  0 32  0  0]\n",
            " [ 0  1  0  0  0  0  0  0 48  0]\n",
            " [ 0  0  0  1  0  2  0  1  1 40]]\n",
            "              precision    recall  f1-score   support\n",
            "\n",
            "           0       1.00      1.00      1.00        60\n",
            "           1       0.95      0.99      0.97        76\n",
            "           2       0.99      0.93      0.96        73\n",
            "           3       1.00      0.97      0.99        74\n",
            "           4       1.00      0.96      0.98        82\n",
            "           5       0.97      0.99      0.98        70\n",
            "           6       1.00      0.99      0.99        70\n",
            "           7       0.89      1.00      0.94        72\n",
            "           8       0.96      0.99      0.97        70\n",
            "           9       0.99      0.92      0.95        72\n",
            "\n",
            "    accuracy                           0.97       719\n",
            "   macro avg       0.97      0.97      0.97       719\n",
            "weighted avg       0.97      0.97      0.97       719\n",
            "\n",
            "[[60  0  0  0  0  0  0  0  0  0]\n",
            " [ 0 75  1  0  0  0  0  0  0  0]\n",
            " [ 0  2 68  0  0  0  0  1  2  0]\n",
            " [ 0  0  0 72  0  1  0  0  1  0]\n",
            " [ 0  0  0  0 79  0  0  3  0  0]\n",
            " [ 0  0  0  0  0 69  0  0  0  1]\n",
            " [ 0  1  0  0  0  0 69  0  0  0]\n",
            " [ 0  0  0  0  0  0  0 72  0  0]\n",
            " [ 0  1  0  0  0  0  0  0 69  0]\n",
            " [ 0  0  0  0  0  1  0  5  0 66]]\n",
            "              precision    recall  f1-score   support\n",
            "\n",
            "           0       1.00      0.99      0.99        97\n",
            "           1       0.93      0.99      0.96        98\n",
            "           2       0.99      0.95      0.97        99\n",
            "           3       0.98      1.00      0.99        93\n",
            "           4       0.99      0.97      0.98       103\n",
            "           5       1.00      1.00      1.00       104\n",
            "           6       1.00      0.98      0.99       104\n",
            "           7       0.91      1.00      0.95        92\n",
            "           8       0.98      0.97      0.97       100\n",
            "           9       1.00      0.93      0.96        99\n",
            "\n",
            "    accuracy                           0.98       989\n",
            "   macro avg       0.98      0.98      0.98       989\n",
            "weighted avg       0.98      0.98      0.98       989\n",
            "\n",
            "[[ 96   0   0   0   1   0   0   0   0   0]\n",
            " [  0  97   1   0   0   0   0   0   0   0]\n",
            " [  0   3  94   0   0   0   0   1   1   0]\n",
            " [  0   0   0  93   0   0   0   0   0   0]\n",
            " [  0   0   0   0 100   0   0   3   0   0]\n",
            " [  0   0   0   0   0 104   0   0   0   0]\n",
            " [  0   1   0   0   0   0 102   0   1   0]\n",
            " [  0   0   0   0   0   0   0  92   0   0]\n",
            " [  0   3   0   0   0   0   0   0  97   0]\n",
            " [  0   0   0   2   0   0   0   5   0  92]]\n",
            "              precision    recall  f1-score   support\n",
            "\n",
            "           0       1.00      0.99      1.00       123\n",
            "           1       0.92      0.98      0.95       118\n",
            "           2       0.98      0.95      0.97       133\n",
            "           3       0.98      0.99      0.99       130\n",
            "           4       0.99      0.98      0.99       126\n",
            "           5       0.98      0.97      0.98       119\n",
            "           6       0.99      0.98      0.98       132\n",
            "           7       0.92      1.00      0.96       130\n",
            "           8       0.95      0.96      0.96       114\n",
            "           9       0.98      0.89      0.94       133\n",
            "\n",
            "    accuracy                           0.97      1258\n",
            "   macro avg       0.97      0.97      0.97      1258\n",
            "weighted avg       0.97      0.97      0.97      1258\n",
            "\n",
            "[[122   0   0   0   1   0   0   0   0   0]\n",
            " [  0 116   2   0   0   0   0   0   0   0]\n",
            " [  0   4 126   0   0   0   0   1   2   0]\n",
            " [  0   0   0 129   0   0   0   0   1   0]\n",
            " [  0   0   0   0 124   0   0   2   0   0]\n",
            " [  0   0   0   0   0 116   1   0   0   2]\n",
            " [  0   2   0   0   0   0 129   0   1   0]\n",
            " [  0   0   0   0   0   0   0 130   0   0]\n",
            " [  0   4   0   0   0   0   0   0 110   0]\n",
            " [  0   0   0   2   0   2   0   8   2 119]]\n"
          ]
        },
        {
          "output_type": "display_data",
          "data": {
            "text/plain": [
              "<Figure size 432x288 with 10 Axes>"
            ],
            "image/png": "[encoded data removed]"
          },
          "metadata": {
            "needs_background": "light"
          }
        }
      ]
    },
    {
      "cell_type": "code",
      "metadata": {
        "id": "zTdrDkYa9QeM",
        "outputId": "57482c8c-1c24-4cef-c822-ba824e4f82de",
        "colab": {
          "base_uri": "https://localhost:8080/",
          "height": 719
        }
      },
      "source": [
        "# コード練習用\n",
        "from sklearn import datasets\n",
        "from sklearn import svm\n",
        "from sklearn.model_selection import train_test_split\n",
        "from sklearn import metrics\n",
        "import matplotlib.pyplot as plt\n",
        "\n",
        "# 訓練データとテストデータに分割\n",
        "digits = datasets.load_digits()\n",
        "x_train, x_test, t_train, t_test = train_test_split(digits.data, digits.target)  # 75％がテストデータ\n",
        "\n",
        "clf = svm.SVC()  # サポートベクターマシーン\n",
        "clf.fit(x_train, t_train)  # 訓練\n",
        "\n",
        "y_test = clf.predict(x_test)  # テストデータで予測\n",
        "print(metrics.classification_report(t_test, y_test))  # 正解率など\n",
        "print(metrics.confusion_matrix(t_test, y_test))  # 行:正解、列:予測\n",
        "\n",
        "# 予測結果と画像の対応\n",
        "images = digits.images[:10]  # 最初の10枚\n",
        "y_10 = clf.predict(digits.data[:10])\n",
        "for i in range(10):\n",
        "    plt.subplot(2, 5, i + 1)  # 2行5列、i+1の位置\n",
        "    plt.imshow(images[i], cmap=\"Greys\")\n",
        "    plt.axis(\"off\")\n",
        "    plt.title(\"Gues: \" +  str(y_10[i]))\n",
        "plt.show()"
      ],
      "execution_count": null,
      "outputs": [
        {
          "output_type": "stream",
          "name": "stdout",
          "text": [
            "              precision    recall  f1-score   support\n",
            "\n",
            "           0       1.00      1.00      1.00        42\n",
            "           1       0.96      1.00      0.98        47\n",
            "           2       1.00      1.00      1.00        44\n",
            "           3       1.00      1.00      1.00        45\n",
            "           4       1.00      0.97      0.99        37\n",
            "           5       0.98      1.00      0.99        47\n",
            "           6       1.00      1.00      1.00        49\n",
            "           7       1.00      1.00      1.00        52\n",
            "           8       1.00      0.95      0.97        41\n",
            "           9       0.98      0.98      0.98        46\n",
            "\n",
            "    accuracy                           0.99       450\n",
            "   macro avg       0.99      0.99      0.99       450\n",
            "weighted avg       0.99      0.99      0.99       450\n",
            "\n",
            "[[42  0  0  0  0  0  0  0  0  0]\n",
            " [ 0 47  0  0  0  0  0  0  0  0]\n",
            " [ 0  0 44  0  0  0  0  0  0  0]\n",
            " [ 0  0  0 45  0  0  0  0  0  0]\n",
            " [ 0  0  0  0 36  0  0  0  0  1]\n",
            " [ 0  0  0  0  0 47  0  0  0  0]\n",
            " [ 0  0  0  0  0  0 49  0  0  0]\n",
            " [ 0  0  0  0  0  0  0 52  0  0]\n",
            " [ 0  2  0  0  0  0  0  0 39  0]\n",
            " [ 0  0  0  0  0  1  0  0  0 45]]\n"
          ]
        },
        {
          "output_type": "display_data",
          "data": {
            "text/plain": [
              "<Figure size 432x288 with 10 Axes>"
            ],
            "image/png": "[encoded data removed]"
          },
          "metadata": {
            "needs_background": "light"
          }
        }
      ]
    },
    {
      "cell_type": "code",
      "source": [],
      "metadata": {
        "id": "neU_ywzhEuEQ"
      },
      "execution_count": null,
      "outputs": []
    }
  ]
}