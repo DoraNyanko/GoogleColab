{
  "nbformat": 4,
  "nbformat_minor": 0,
  "metadata": {
    "colab": {
      "provenance": [],
      "authorship_tag": "ABX9TyN+PpHcpW8cXfr2QR4Un/Nd",
      "include_colab_link": true
    },
    "kernelspec": {
      "name": "python3",
      "display_name": "Python 3"
    },
    "language_info": {
      "name": "python"
    }
  },
  "cells": [
    {
      "cell_type": "markdown",
      "metadata": {
        "id": "view-in-github",
        "colab_type": "text"
      },
      "source": [
        "<a href=\"https://colab.research.google.com/github/DoraNyanko/GoogleColab/blob/main/sec1~2.ipynb\" target=\"_parent\"><img src=\"https://colab.research.google.com/assets/colab-badge.svg\" alt=\"Open In Colab\"/></a>"
      ]
    },
    {
      "cell_type": "markdown",
      "source": [
        "# Sec1"
      ],
      "metadata": {
        "id": "7OAIw7qdIYF_"
      }
    },
    {
      "cell_type": "code",
      "execution_count": null,
      "metadata": {
        "colab": {
          "base_uri": "https://localhost:8080/"
        },
        "id": "s4lsP7ozxcK1",
        "outputId": "0eb04e8f-4f97-465c-886e-45702f4ac0fe"
      },
      "outputs": [
        {
          "output_type": "stream",
          "name": "stdout",
          "text": [
            "Hello world!\n"
          ]
        }
      ],
      "source": [
        "print(\"Hello world!\")"
      ]
    },
    {
      "cell_type": "code",
      "source": [
        "x=5\n",
        "y=2\n",
        "print(x+y*4)"
      ],
      "metadata": {
        "colab": {
          "base_uri": "https://localhost:8080/"
        },
        "id": "PgbExwktxgZk",
        "outputId": "cbce5749-f38a-4636-88b5-f0466eb86ca0"
      },
      "execution_count": null,
      "outputs": [
        {
          "output_type": "stream",
          "name": "stdout",
          "text": [
            "13\n"
          ]
        }
      ]
    },
    {
      "cell_type": "markdown",
      "source": [
        "これは**テキストセル**です。\n",
        "**以下のリンク**から検索エンジンに飛べます。\n",
        "[google検索](https://google.com)\n",
        "\n",
        "---\n",
        "\n"
      ],
      "metadata": {
        "id": "ECyezPbkx1Eo"
      }
    },
    {
      "cell_type": "markdown",
      "source": [],
      "metadata": {
        "id": "xrXkZJCFxxe_"
      }
    },
    {
      "cell_type": "code",
      "source": [
        "a =123\n",
        "print(a)"
      ],
      "metadata": {
        "colab": {
          "base_uri": "https://localhost:8080/"
        },
        "id": "_KQsV2xJ5w04",
        "outputId": "ece378aa-c383-43c9-8b7d-c83ad1df8deb"
      },
      "execution_count": null,
      "outputs": [
        {
          "output_type": "stream",
          "name": "stdout",
          "text": [
            "123\n"
          ]
        }
      ]
    },
    {
      "cell_type": "code",
      "source": [
        "b=123.45\n",
        "print(b)"
      ],
      "metadata": {
        "colab": {
          "base_uri": "https://localhost:8080/"
        },
        "id": "uoEC2id758ZW",
        "outputId": "02b41051-dc35-4a36-fffd-ff591e82eb18"
      },
      "execution_count": null,
      "outputs": [
        {
          "output_type": "stream",
          "name": "stdout",
          "text": [
            "123.45\n"
          ]
        }
      ]
    },
    {
      "cell_type": "code",
      "source": [
        "C=\"こんにちは、世界！\"\n",
        "print(C)"
      ],
      "metadata": {
        "colab": {
          "base_uri": "https://localhost:8080/"
        },
        "id": "PrslHUgK6Ffr",
        "outputId": "a74eafee-da28-4af8-bc78-9a4072d2dc5f"
      },
      "execution_count": null,
      "outputs": [
        {
          "output_type": "stream",
          "name": "stdout",
          "text": [
            "こんにちは、世界！\n"
          ]
        }
      ]
    },
    {
      "cell_type": "markdown",
      "source": [
        "# Sec2\n",
        "四則演算"
      ],
      "metadata": {
        "id": "sDFrpESAH8wg"
      }
    },
    {
      "cell_type": "code",
      "source": [
        "a=7\n",
        "b=3\n",
        "\n",
        "c=a+b\n",
        "d=a-b\n",
        "e=a*b\n",
        "f=a/b\n",
        "g=a//b\n",
        "h=a%b\n",
        "print(c,d,e,f,g,h)"
      ],
      "metadata": {
        "colab": {
          "base_uri": "https://localhost:8080/"
        },
        "id": "su96UfFj6PNi",
        "outputId": "c7d77bb0-8711-453e-ab7f-f8d783236f9c"
      },
      "execution_count": null,
      "outputs": [
        {
          "output_type": "stream",
          "name": "stdout",
          "text": [
            "10 4 21 2.3333333333333335 2 1\n"
          ]
        }
      ]
    },
    {
      "cell_type": "code",
      "source": [
        "a= \"Hello\"\n",
        "b=\"World!\"\n",
        "print(a+b)"
      ],
      "metadata": {
        "colab": {
          "base_uri": "https://localhost:8080/"
        },
        "id": "txOE85yv6taQ",
        "outputId": "ef3282d1-0f2c-45b7-bac5-fa79fdd0b45f"
      },
      "execution_count": null,
      "outputs": [
        {
          "output_type": "stream",
          "name": "stdout",
          "text": [
            "HelloWorld!\n"
          ]
        }
      ]
    },
    {
      "cell_type": "code",
      "source": [
        "a=True\n",
        "b=False\n",
        "\n",
        "c=3\n",
        "d=4\n",
        "e=c>d\n",
        "print(e)\n",
        "\n",
        "f=c<d\n",
        "print(f)\n",
        "\n",
        "h=c<=d\n",
        "print(h)\n",
        "\n",
        "i=c==d\n",
        "print(i)\n",
        "\n",
        "j=c!=d\n",
        "print(j)\n"
      ],
      "metadata": {
        "colab": {
          "base_uri": "https://localhost:8080/"
        },
        "id": "kxkwpb-07BME",
        "outputId": "4320261d-4d30-40a6-c563-f06b1f16ced3"
      },
      "execution_count": null,
      "outputs": [
        {
          "output_type": "stream",
          "name": "stdout",
          "text": [
            "False\n",
            "True\n",
            "True\n",
            "False\n",
            "True\n"
          ]
        }
      ]
    },
    {
      "cell_type": "code",
      "source": [
        "a=3\n",
        "b=4\n",
        "c=5\n",
        "\n",
        "d=a<b and b<c\n",
        "print(d)\n",
        "\n",
        "e=a<b or b>c\n",
        "print(e)\n",
        "\n",
        "f=not a<b\n",
        "print(f)"
      ],
      "metadata": {
        "colab": {
          "base_uri": "https://localhost:8080/"
        },
        "id": "Joain-0i7mye",
        "outputId": "27dc93d4-24a7-424f-fa18-80a7f1d2a877"
      },
      "execution_count": null,
      "outputs": [
        {
          "output_type": "stream",
          "name": "stdout",
          "text": [
            "True\n",
            "True\n",
            "False\n"
          ]
        }
      ]
    },
    {
      "cell_type": "code",
      "source": [
        "a=\"Hello \"\n",
        "b=\"World!\"\n",
        "c=a*5\n",
        "print(c)\n",
        "print(a*2+b)"
      ],
      "metadata": {
        "colab": {
          "base_uri": "https://localhost:8080/"
        },
        "id": "WdkeAUcd8HjF",
        "outputId": "4c65bfde-e6f6-43a0-8bef-efaa68066291"
      },
      "execution_count": null,
      "outputs": [
        {
          "output_type": "stream",
          "name": "stdout",
          "text": [
            "Hello Hello Hello Hello Hello \n",
            "Hello Hello World!\n"
          ]
        }
      ]
    },
    {
      "cell_type": "markdown",
      "source": [
        "＊＊＊＊＊リスト、タプル、辞書"
      ],
      "metadata": {
        "id": "7QICQf_yIshd"
      }
    },
    {
      "cell_type": "code",
      "source": [
        "a = [2011,2012,2013,2014,2015]\n",
        "print(a[0],a[3],a[4])"
      ],
      "metadata": {
        "colab": {
          "base_uri": "https://localhost:8080/"
        },
        "id": "7v6Xn1Mh9L0c",
        "outputId": "cb051581-48a9-4c68-aff2-5b9dadf3b695"
      },
      "execution_count": null,
      "outputs": [
        {
          "output_type": "stream",
          "name": "stdout",
          "text": [
            "2011 2014 2015\n"
          ]
        }
      ]
    },
    {
      "cell_type": "code",
      "source": [
        "b = 2016\n",
        "c = [b,2017,\"Hellol\",\"Hi\"]\n",
        "print(c[1:4],c[0])"
      ],
      "metadata": {
        "colab": {
          "base_uri": "https://localhost:8080/"
        },
        "id": "KLcJn2gF_WeG",
        "outputId": "b3134b0e-f08b-4be6-ccc0-d2768b2768bc"
      },
      "execution_count": null,
      "outputs": [
        {
          "output_type": "stream",
          "name": "stdout",
          "text": [
            "[2017, 'Hellol', 'Hi'] 2016\n"
          ]
        }
      ]
    },
    {
      "cell_type": "code",
      "source": [
        "d = [[2012,2013,2014],[2015,2016]]\n",
        "print(d[0])\n",
        "print(d[0:2])\n",
        "print(d[0[1]])"
      ],
      "metadata": {
        "colab": {
          "base_uri": "https://localhost:8080/",
          "height": 255
        },
        "id": "2oQOAzcV_ruj",
        "outputId": "3e210f9c-c428-4e0d-9fb8-231ea0dffcb5"
      },
      "execution_count": null,
      "outputs": [
        {
          "output_type": "stream",
          "name": "stdout",
          "text": [
            "[2012, 2013, 2014]\n",
            "[[2012, 2013, 2014], [2015, 2016]]\n"
          ]
        },
        {
          "output_type": "error",
          "ename": "TypeError",
          "evalue": "ignored",
          "traceback": [
            "\u001b[0;31m---------------------------------------------------------------------------\u001b[0m",
            "\u001b[0;31mTypeError\u001b[0m                                 Traceback (most recent call last)",
            "\u001b[0;32m<ipython-input-35-ae7eb500043e>\u001b[0m in \u001b[0;36m<module>\u001b[0;34m\u001b[0m\n\u001b[1;32m      2\u001b[0m \u001b[0mprint\u001b[0m\u001b[0;34m(\u001b[0m\u001b[0md\u001b[0m\u001b[0;34m[\u001b[0m\u001b[0;36m0\u001b[0m\u001b[0;34m]\u001b[0m\u001b[0;34m)\u001b[0m\u001b[0;34m\u001b[0m\u001b[0;34m\u001b[0m\u001b[0m\n\u001b[1;32m      3\u001b[0m \u001b[0mprint\u001b[0m\u001b[0;34m(\u001b[0m\u001b[0md\u001b[0m\u001b[0;34m[\u001b[0m\u001b[0;36m0\u001b[0m\u001b[0;34m:\u001b[0m\u001b[0;36m2\u001b[0m\u001b[0;34m]\u001b[0m\u001b[0;34m)\u001b[0m\u001b[0;34m\u001b[0m\u001b[0;34m\u001b[0m\u001b[0m\n\u001b[0;32m----> 4\u001b[0;31m \u001b[0mprint\u001b[0m\u001b[0;34m(\u001b[0m\u001b[0md\u001b[0m\u001b[0;34m[\u001b[0m\u001b[0;36m0\u001b[0m\u001b[0;34m[\u001b[0m\u001b[0;36m1\u001b[0m\u001b[0;34m]\u001b[0m\u001b[0;34m]\u001b[0m\u001b[0;34m)\u001b[0m\u001b[0;34m\u001b[0m\u001b[0;34m\u001b[0m\u001b[0m\n\u001b[0m",
            "\u001b[0;31mTypeError\u001b[0m: 'int' object is not subscriptable"
          ]
        }
      ]
    },
    {
      "cell_type": "code",
      "source": [
        "b = 2016\n",
        "c = [b,2017,\"Hellol\",\"Hi\"]\n",
        "\n",
        "c[1]=2022\n",
        "print(c)\n",
        "\n",
        "c.append(2021)\n",
        "print(c)"
      ],
      "metadata": {
        "colab": {
          "base_uri": "https://localhost:8080/"
        },
        "id": "6OyRjkyKAAXl",
        "outputId": "776543bb-1bb8-428d-c1a0-8b9c9f166e18"
      },
      "execution_count": null,
      "outputs": [
        {
          "output_type": "stream",
          "name": "stdout",
          "text": [
            "[2016, 2022, 'Hellol', 'Hi']\n",
            "[2016, 2022, 'Hellol', 'Hi', 2021]\n"
          ]
        }
      ]
    },
    {
      "cell_type": "code",
      "source": [
        "a = [1,2,3]\n",
        "b = (4,5,6)\n",
        "\n",
        "print(a,b)\n",
        "\n",
        "print(a[1],b[2])\n",
        "\n",
        "a[1] = 8\n",
        "b[2] = 9\n",
        "# b[2] = 9"
      ],
      "metadata": {
        "colab": {
          "base_uri": "https://localhost:8080/",
          "height": 255
        },
        "id": "yeRicHEnBKrm",
        "outputId": "8df26d1b-52e2-4712-ec60-7d0d801d9d66"
      },
      "execution_count": null,
      "outputs": [
        {
          "output_type": "stream",
          "name": "stdout",
          "text": [
            "[1, 2, 3] (4, 5, 6)\n",
            "2 6\n"
          ]
        },
        {
          "output_type": "error",
          "ename": "AttributeError",
          "evalue": "ignored",
          "traceback": [
            "\u001b[0;31m---------------------------------------------------------------------------\u001b[0m",
            "\u001b[0;31mAttributeError\u001b[0m                            Traceback (most recent call last)",
            "\u001b[0;32m<ipython-input-44-d987a82f5fff>\u001b[0m in \u001b[0;36m<module>\u001b[0;34m\u001b[0m\n\u001b[1;32m     10\u001b[0m \u001b[0;31m# b[2] = 9\u001b[0m\u001b[0;34m\u001b[0m\u001b[0;34m\u001b[0m\u001b[0;34m\u001b[0m\u001b[0m\n\u001b[1;32m     11\u001b[0m \u001b[0;34m\u001b[0m\u001b[0m\n\u001b[0;32m---> 12\u001b[0;31m \u001b[0mb\u001b[0m\u001b[0;34m.\u001b[0m\u001b[0mappend\u001b[0m\u001b[0;34m(\u001b[0m\u001b[0;36m5\u001b[0m\u001b[0;34m)\u001b[0m\u001b[0;34m\u001b[0m\u001b[0;34m\u001b[0m\u001b[0m\n\u001b[0m",
            "\u001b[0;31mAttributeError\u001b[0m: 'tuple' object has no attribute 'append'"
          ]
        }
      ]
    },
    {
      "cell_type": "code",
      "source": [
        "a = {\"taro\":2015,\"hanako\":2016}\n",
        "print(a[\"taro\"])\n",
        "\n",
        "a[\"hanako\"] = 1999\n",
        "\n",
        "a[\"jiro\"] = 1992\n",
        "print(a)"
      ],
      "metadata": {
        "colab": {
          "base_uri": "https://localhost:8080/"
        },
        "id": "R5yRqCQNCYXB",
        "outputId": "3c6545ca-3c15-477f-cfc9-a9ad798ea5e8"
      },
      "execution_count": null,
      "outputs": [
        {
          "output_type": "stream",
          "name": "stdout",
          "text": [
            "2015\n",
            "{'taro': 2015, 'hanako': 1999, 'jiro': 1992}\n"
          ]
        }
      ]
    },
    {
      "cell_type": "markdown",
      "source": [
        "＊＊＊＊＊If文、For文、While文"
      ],
      "metadata": {
        "id": "syD2R1kwJaz8"
      }
    },
    {
      "cell_type": "code",
      "source": [
        "a=5\n",
        "\n",
        "if a==5:\n",
        "  print(\"3+4=\", 3+4)\n",
        "else:\n",
        "  print(\"3*4=\", 3*4)"
      ],
      "metadata": {
        "colab": {
          "base_uri": "https://localhost:8080/"
        },
        "id": "C5U2_rCEB1QI",
        "outputId": "d6aa2883-5b35-4145-c12c-916ea8a42225"
      },
      "execution_count": null,
      "outputs": [
        {
          "output_type": "stream",
          "name": "stdout",
          "text": [
            "3+4= 7\n"
          ]
        }
      ]
    },
    {
      "cell_type": "code",
      "source": [
        "a=5\n",
        "\n",
        "if a<4:\n",
        "  print(3+4)\n",
        "elif a>4:\n",
        "  print(5*6)\n",
        "else:\n",
        "  print( 3*4)"
      ],
      "metadata": {
        "colab": {
          "base_uri": "https://localhost:8080/"
        },
        "id": "c404AGHlDtAG",
        "outputId": "6241050e-2528-4af1-aa15-ca872b6d098c"
      },
      "execution_count": null,
      "outputs": [
        {
          "output_type": "stream",
          "name": "stdout",
          "text": [
            "30\n"
          ]
        }
      ]
    },
    {
      "cell_type": "code",
      "source": [
        "a = [1,2,3,4,5]\n",
        "for i in a:\n",
        "  print(i+10)"
      ],
      "metadata": {
        "colab": {
          "base_uri": "https://localhost:8080/"
        },
        "id": "pt7LCnfNEZBI",
        "outputId": "add99312-5572-4a1e-eb45-e8693e643b25"
      },
      "execution_count": null,
      "outputs": [
        {
          "output_type": "stream",
          "name": "stdout",
          "text": [
            "11\n",
            "12\n",
            "13\n",
            "14\n",
            "15\n"
          ]
        }
      ]
    },
    {
      "cell_type": "code",
      "source": [
        "for i in range(0,6):\n",
        "  print(i*2)"
      ],
      "metadata": {
        "colab": {
          "base_uri": "https://localhost:8080/"
        },
        "id": "VgeFeD6tFHp6",
        "outputId": "5dcf140b-399b-45d3-8159-210cfef0ddbb"
      },
      "execution_count": null,
      "outputs": [
        {
          "output_type": "stream",
          "name": "stdout",
          "text": [
            "0\n",
            "2\n",
            "4\n",
            "6\n",
            "8\n",
            "10\n"
          ]
        }
      ]
    },
    {
      "cell_type": "code",
      "source": [
        "for i in b = [1,2,3]:\n",
        "  print(i+5)\n"
      ],
      "metadata": {
        "colab": {
          "base_uri": "https://localhost:8080/",
          "height": 142
        },
        "id": "Noji2ESPFpGT",
        "outputId": "3e8a7a5d-b477-4241-ff0f-1725a296c1e6"
      },
      "execution_count": null,
      "outputs": [
        {
          "output_type": "error",
          "ename": "SyntaxError",
          "evalue": "ignored",
          "traceback": [
            "\u001b[0;36m  File \u001b[0;32m\"<ipython-input-59-e8ca906c2e3c>\"\u001b[0;36m, line \u001b[0;32m1\u001b[0m\n\u001b[0;31m    for i in b = [1,2,3]:\u001b[0m\n\u001b[0m               ^\u001b[0m\n\u001b[0;31mSyntaxError\u001b[0m\u001b[0;31m:\u001b[0m invalid syntax\n"
          ]
        }
      ]
    },
    {
      "cell_type": "code",
      "source": [
        "a=0\n",
        "while a< 10:\n",
        "  print(a)\n",
        "  a += 1\n",
        "b=0\n",
        "while b!=10:\n",
        "  print(b)\n",
        "  b += 1"
      ],
      "metadata": {
        "colab": {
          "base_uri": "https://localhost:8080/"
        },
        "id": "p0GBAY3cHbgv",
        "outputId": "65b123fa-c34b-4016-c7ab-a3a0e308677f"
      },
      "execution_count": null,
      "outputs": [
        {
          "output_type": "stream",
          "name": "stdout",
          "text": [
            "0\n",
            "1\n",
            "2\n",
            "3\n",
            "4\n",
            "5\n",
            "6\n",
            "7\n",
            "8\n",
            "9\n",
            "0\n",
            "1\n",
            "2\n",
            "3\n",
            "4\n",
            "5\n",
            "6\n",
            "7\n",
            "8\n",
            "9\n"
          ]
        }
      ]
    },
    {
      "cell_type": "code",
      "source": [
        "a = []\n",
        "for i in range(0,10):\n",
        "  if i%2 == 0:\n",
        "    a.append(i)\n",
        "\n",
        "print(a)"
      ],
      "metadata": {
        "colab": {
          "base_uri": "https://localhost:8080/"
        },
        "id": "tVV0r2KyKKax",
        "outputId": "b8fa48c0-5a73-4af8-873a-8bab060dd8f0"
      },
      "execution_count": null,
      "outputs": [
        {
          "output_type": "stream",
          "name": "stdout",
          "text": [
            "[0, 2, 4, 6, 8]\n"
          ]
        }
      ]
    },
    {
      "cell_type": "markdown",
      "source": [
        "＊＊＊＊＊関数"
      ],
      "metadata": {
        "id": "77jfyx-NO6bl"
      }
    },
    {
      "cell_type": "code",
      "source": [
        "def say_hello():\n",
        "  print(\"Hello World!\")\n",
        "\n",
        "say_hello()"
      ],
      "metadata": {
        "colab": {
          "base_uri": "https://localhost:8080/"
        },
        "id": "FT_h2AuQLUuQ",
        "outputId": "e145b332-a036-4ea8-804c-33d7b9631bba"
      },
      "execution_count": null,
      "outputs": [
        {
          "output_type": "stream",
          "name": "stdout",
          "text": [
            "Hello World!\n"
          ]
        }
      ]
    },
    {
      "cell_type": "code",
      "source": [
        "def say_gm():\n",
        "  print(\"good morning\")\n",
        "\n",
        "say_gm()\n",
        "say_gm()\n",
        "say_gm()"
      ],
      "metadata": {
        "colab": {
          "base_uri": "https://localhost:8080/"
        },
        "id": "Fxxeh5HHO4qC",
        "outputId": "cbba37d1-7654-4140-9669-3e3b31258cd2"
      },
      "execution_count": null,
      "outputs": [
        {
          "output_type": "stream",
          "name": "stdout",
          "text": [
            "good morning\n",
            "good morning\n",
            "good morning\n"
          ]
        }
      ]
    },
    {
      "cell_type": "code",
      "source": [
        "def say_number(a):\n",
        "  print(a)\n",
        "\n",
        "say_number(123)"
      ],
      "metadata": {
        "colab": {
          "base_uri": "https://localhost:8080/"
        },
        "id": "FtH2O39RPIas",
        "outputId": "2f9efb4b-658b-449b-a727-10ee53b3155a"
      },
      "execution_count": null,
      "outputs": [
        {
          "output_type": "stream",
          "name": "stdout",
          "text": [
            "123\n"
          ]
        }
      ]
    },
    {
      "cell_type": "code",
      "source": [
        "def add(a,b,c):\n",
        "  d = a + b+c\n",
        "  print(d)\n",
        "\n",
        "add(2,5,3)"
      ],
      "metadata": {
        "colab": {
          "base_uri": "https://localhost:8080/"
        },
        "id": "-Csz6qi6PQ03",
        "outputId": "63ba315e-eb52-409a-e4d2-557422170e6c"
      },
      "execution_count": null,
      "outputs": [
        {
          "output_type": "stream",
          "name": "stdout",
          "text": [
            "10\n"
          ]
        }
      ]
    },
    {
      "cell_type": "code",
      "source": [
        "def get_number():\n",
        "  a=123\n",
        "  return a\n",
        "\n",
        "b = get_number()\n",
        "print(b)"
      ],
      "metadata": {
        "colab": {
          "base_uri": "https://localhost:8080/"
        },
        "id": "C95UHUyxPiyR",
        "outputId": "a203ad34-3f0e-40d7-ca35-cea5bb08af9f"
      },
      "execution_count": null,
      "outputs": [
        {
          "output_type": "stream",
          "name": "stdout",
          "text": [
            "123\n"
          ]
        }
      ]
    },
    {
      "cell_type": "code",
      "source": [
        "def add(a,b):\n",
        "  c = a+b\n",
        "  return c\n",
        "\n",
        "result1 = add(3,4)\n",
        "print(result1)\n",
        "result2 = add(7,8)\n",
        "print(result2)"
      ],
      "metadata": {
        "colab": {
          "base_uri": "https://localhost:8080/"
        },
        "id": "WSs3wMqMPtmo",
        "outputId": "e7ec7108-ae94-44e9-8566-510c761e91ee"
      },
      "execution_count": null,
      "outputs": [
        {
          "output_type": "stream",
          "name": "stdout",
          "text": [
            "7\n",
            "15\n"
          ]
        }
      ]
    },
    {
      "cell_type": "markdown",
      "source": [
        "＊＊＊＊＊変数のスコープ"
      ],
      "metadata": {
        "id": "c-jWtnW1QMBr"
      }
    },
    {
      "cell_type": "code",
      "source": [
        "glob_1 =123\n",
        "\n",
        "def a():\n",
        "  loc_1 =456\n",
        "  print(glob_1,loc_1)\n",
        "\n",
        "a()\n",
        "#print(loc_1)"
      ],
      "metadata": {
        "colab": {
          "base_uri": "https://localhost:8080/"
        },
        "id": "vq07ejopQFp1",
        "outputId": "f8ba2bbe-0b6b-4c64-87de-cc4f8fc12215"
      },
      "execution_count": null,
      "outputs": [
        {
          "output_type": "stream",
          "name": "stdout",
          "text": [
            "123 456\n"
          ]
        }
      ]
    },
    {
      "cell_type": "code",
      "source": [
        "glob_1 =123\n",
        "\n",
        "def a():\n",
        "  loc_1 =456\n",
        "  print(glob_1,loc_1)\n",
        "\n",
        "a()\n",
        "print(loc_1)"
      ],
      "metadata": {
        "colab": {
          "base_uri": "https://localhost:8080/",
          "height": 236
        },
        "id": "ZVcdzjMEQgC3",
        "outputId": "a54c0827-3c1e-420e-b54c-bd2732b453e0"
      },
      "execution_count": null,
      "outputs": [
        {
          "output_type": "stream",
          "name": "stdout",
          "text": [
            "123 456\n"
          ]
        },
        {
          "output_type": "error",
          "ename": "NameError",
          "evalue": "ignored",
          "traceback": [
            "\u001b[0;31m---------------------------------------------------------------------------\u001b[0m",
            "\u001b[0;31mNameError\u001b[0m                                 Traceback (most recent call last)",
            "\u001b[0;32m<ipython-input-82-e997ec66ba22>\u001b[0m in \u001b[0;36m<module>\u001b[0;34m\u001b[0m\n\u001b[1;32m      6\u001b[0m \u001b[0;34m\u001b[0m\u001b[0m\n\u001b[1;32m      7\u001b[0m \u001b[0ma\u001b[0m\u001b[0;34m(\u001b[0m\u001b[0;34m)\u001b[0m\u001b[0;34m\u001b[0m\u001b[0;34m\u001b[0m\u001b[0m\n\u001b[0;32m----> 8\u001b[0;31m \u001b[0mprint\u001b[0m\u001b[0;34m(\u001b[0m\u001b[0mloc_1\u001b[0m\u001b[0;34m)\u001b[0m\u001b[0;34m\u001b[0m\u001b[0;34m\u001b[0m\u001b[0m\n\u001b[0m",
            "\u001b[0;31mNameError\u001b[0m: name 'loc_1' is not defined"
          ]
        }
      ]
    },
    {
      "cell_type": "markdown",
      "source": [
        "＊＊＊＊＊クラス"
      ],
      "metadata": {
        "id": "ZmczAiUiZ0h1"
      }
    },
    {
      "cell_type": "code",
      "source": [
        "class calc:     #クラス定義\n",
        "  def add(self,a,b):    #メソッド記述\n",
        "    print(a+b)\n",
        "\n",
        "  def mult(self,a,b):\n",
        "    print(a*b)\n",
        "\n",
        "cl = calc()     #インスタンス化\n",
        "cl.add(2,3)\n",
        "cl.mult(4,5)"
      ],
      "metadata": {
        "colab": {
          "base_uri": "https://localhost:8080/"
        },
        "id": "tmIdx7S4RIH7",
        "outputId": "4875f039-55e2-4e7a-a38a-0a87c2b967a5"
      },
      "execution_count": null,
      "outputs": [
        {
          "output_type": "stream",
          "name": "stdout",
          "text": [
            "5\n",
            "20\n"
          ]
        }
      ]
    },
    {
      "cell_type": "code",
      "source": [
        "class box:\n",
        "  def set_num(self,n1,n2):\n",
        "    self.num1 = n1    #インスタンス変数の書き方\n",
        "    self.num2 = n2\n",
        "bx = box()\n",
        "bx.set_num(123,456)\n",
        "\n",
        "print(bx.num1)\n",
        "print(bx.num2)\n",
        "\n",
        "bx.num1 = 999 #インスタンス変数の値変更\n",
        "print(bx.num1)"
      ],
      "metadata": {
        "colab": {
          "base_uri": "https://localhost:8080/"
        },
        "id": "mqLoyCDiTXGB",
        "outputId": "8582072d-e029-42ab-bd26-c9f1ab079aef"
      },
      "execution_count": null,
      "outputs": [
        {
          "output_type": "stream",
          "name": "stdout",
          "text": [
            "123\n",
            "456\n",
            "999\n"
          ]
        }
      ]
    },
    {
      "cell_type": "code",
      "source": [
        "class dog:\n",
        "  def set_dog(self, n, a):\n",
        "    self.name = n\n",
        "    self.age = a\n",
        "\n",
        "shiba = dog()\n",
        "shiba.set_dog(\"poti\",10)\n",
        "\n",
        "chiwawa = dog()\n",
        "chiwawa.set_dog(\"meruru\",4)\n",
        "\n",
        "dogs = [shiba, chiwawa]\n",
        "for d in dogs:\n",
        "  print(d.name,d.age)"
      ],
      "metadata": {
        "colab": {
          "base_uri": "https://localhost:8080/"
        },
        "id": "qkCtIejqUJGT",
        "outputId": "0461f66d-1167-4e60-b429-9bdadf80b6ef"
      },
      "execution_count": null,
      "outputs": [
        {
          "output_type": "stream",
          "name": "stdout",
          "text": [
            "poti 10\n",
            "meruru 4\n"
          ]
        }
      ]
    },
    {
      "cell_type": "code",
      "source": [
        "gmgn = \"GM! GN!!\"\n",
        "\n",
        "with open(\"greetings.txt\",\"w\") as f:\n",
        "  f.write(gmgn)"
      ],
      "metadata": {
        "id": "lAI7Gt4XXMhq"
      },
      "execution_count": null,
      "outputs": []
    },
    {
      "cell_type": "code",
      "source": [
        "with open(\"greetings.txt\",\"r\") as f:\n",
        "  print(f.read())"
      ],
      "metadata": {
        "colab": {
          "base_uri": "https://localhost:8080/"
        },
        "id": "fKvwfZ_dX_6t",
        "outputId": "89de4897-86fe-494b-acae-61a1fe5e6114"
      },
      "execution_count": null,
      "outputs": [
        {
          "output_type": "stream",
          "name": "stdout",
          "text": [
            "GM! GN!!\n"
          ]
        }
      ]
    },
    {
      "cell_type": "code",
      "source": [],
      "metadata": {
        "id": "xWYC3dEOYaLJ"
      },
      "execution_count": null,
      "outputs": []
    }
  ]
}